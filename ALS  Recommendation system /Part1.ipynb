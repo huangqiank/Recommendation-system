{
 "cells": [
  {
   "cell_type": "markdown",
   "metadata": {},
   "source": [
    "# method1 Data preprocessing(Spark-SQL)"
   ]
  },
  {
   "cell_type": "code",
   "execution_count": 22,
   "metadata": {
    "collapsed": true
   },
   "outputs": [],
   "source": [
    "import pyspark\n",
    "from pyspark import SparkContext\n",
    "from pyspark.sql import *\n",
    "from pyspark.sql.functions import *\n",
    "from pyspark.sql.types import *\n",
    "sc = SparkContext.getOrCreate()\n",
    "sqlContext = SQLContext.getOrCreate(sc)\n",
    "\n"
   ]
  },
  {
   "cell_type": "markdown",
   "metadata": {},
   "source": [
    "## load rating data"
   ]
  },
  {
   "cell_type": "code",
   "execution_count": 23,
   "metadata": {},
   "outputs": [
    {
     "name": "stdout",
     "output_type": "stream",
     "text": [
      "+----+\n",
      "|user|\n",
      "+----+\n",
      "| 671|\n",
      "+----+\n",
      "\n"
     ]
    }
   ],
   "source": [
    "ratings = sqlContext.read.format(\"com.databricks.spark.csv\").\\\n",
    "option(\"header\", \"true\").option(\"inferSchema\", \"true\").\\\n",
    "load(\"file:///Users/qiankunhuang/Downloads/ml-latest-small/rating.csv\")\n",
    "ratings.createOrReplaceTempView(\"ratings\")\n"
   ]
  },
  {
   "cell_type": "markdown",
   "metadata": {},
   "source": [
    "## calculate the number of user"
   ]
  },
  {
   "cell_type": "code",
   "execution_count": 39,
   "metadata": {},
   "outputs": [
    {
     "name": "stdout",
     "output_type": "stream",
     "text": [
      "+----+\n",
      "|user|\n",
      "+----+\n",
      "| 671|\n",
      "+----+\n",
      "\n"
     ]
    }
   ],
   "source": [
    "count_user=spark.sql(\"select count(distinct(userId)) as user from ratings\")\n",
    "count_user.show()"
   ]
  },
  {
   "cell_type": "markdown",
   "metadata": {},
   "source": [
    "## load movies data"
   ]
  },
  {
   "cell_type": "code",
   "execution_count": 132,
   "metadata": {},
   "outputs": [],
   "source": [
    "count_movie=sqlContext.read.format(\"com.databricks.spark.csv\")\\\n",
    "    .option(\"header\", \"true\").option(\"inferSchema\", \"true\")\\\n",
    "    .load(\"file:///Users/qiankunhuang/Downloads/ml-latest-small/movies.csv\")\n",
    "count_movie.createOrReplaceTempView(\"movies\")\n",
    "\n"
   ]
  },
  {
   "cell_type": "markdown",
   "metadata": {},
   "source": [
    "## calculate the number of movies"
   ]
  },
  {
   "cell_type": "code",
   "execution_count": 134,
   "metadata": {},
   "outputs": [
    {
     "name": "stdout",
     "output_type": "stream",
     "text": [
      "+-----+\n",
      "|movie|\n",
      "+-----+\n",
      "| 9125|\n",
      "+-----+\n",
      "\n"
     ]
    }
   ],
   "source": [
    "count_movies=spark.sql(\"select count(distinct(movieId)) as movie from movies\")\n",
    "count_movies.show()"
   ]
  },
  {
   "cell_type": "markdown",
   "metadata": {},
   "source": [
    "## calculate the number of rated_movies"
   ]
  },
  {
   "cell_type": "code",
   "execution_count": 33,
   "metadata": {},
   "outputs": [
    {
     "name": "stdout",
     "output_type": "stream",
     "text": [
      "+------------+\n",
      "|rated_movies|\n",
      "+------------+\n",
      "|        9066|\n",
      "+------------+\n",
      "\n"
     ]
    }
   ],
   "source": [
    "count_movies1=spark.sql(\"select count(distinct(movieId)) as rated_movies \\\n",
    "                        from movies where movies.movieId \\\n",
    "                        in (select movieId from ratings) \")\n",
    "count_movies1.show()\n",
    "\n"
   ]
  },
  {
   "cell_type": "markdown",
   "metadata": {},
   "source": [
    "## calculate the number of unrated_movies"
   ]
  },
  {
   "cell_type": "code",
   "execution_count": 35,
   "metadata": {},
   "outputs": [
    {
     "name": "stdout",
     "output_type": "stream",
     "text": [
      "+--------------+\n",
      "|unrated_movies|\n",
      "+--------------+\n",
      "|            59|\n",
      "+--------------+\n",
      "\n"
     ]
    }
   ],
   "source": [
    "count_movies2=spark.sql(\"select count(distinct(movieId)) as unrated_movies \\\n",
    "                       from movies where movies.movieId not in \\\n",
    "                       (select movieId from ratings) \")\n",
    "count_movies2.show()\n"
   ]
  },
  {
   "cell_type": "code",
   "execution_count": 42,
   "metadata": {},
   "outputs": [
    {
     "name": "stdout",
     "output_type": "stream",
     "text": [
      "+--------------------+\n",
      "|            category|\n",
      "+--------------------+\n",
      "|Comedy|Horror|Thr...|\n",
      "|Adventure|Sci-Fi|...|\n",
      "|Action|Adventure|...|\n",
      "| Action|Drama|Horror|\n",
      "|Comedy|Drama|Horr...|\n",
      "|Action|Animation|...|\n",
      "|Animation|Childre...|\n",
      "|Action|Adventure|...|\n",
      "| Adventure|Animation|\n",
      "|    Adventure|Sci-Fi|\n",
      "|Documentary|Music...|\n",
      "|Adventure|Childre...|\n",
      "|  Documentary|Sci-Fi|\n",
      "| Musical|Romance|War|\n",
      "|Action|Adventure|...|\n",
      "|Adventure|Childre...|\n",
      "|Crime|Drama|Fanta...|\n",
      "|Comedy|Mystery|Th...|\n",
      "|   Adventure|Fantasy|\n",
      "|Action|Animation|...|\n",
      "+--------------------+\n",
      "only showing top 20 rows\n",
      "\n"
     ]
    }
   ],
   "source": [
    "genres=spark.sql(\"select distinct(genres) as category from movies\")\n",
    "genres.show()\n"
   ]
  },
  {
   "cell_type": "markdown",
   "metadata": {},
   "source": [
    "## calculate the number of movies for category"
   ]
  },
  {
   "cell_type": "code",
   "execution_count": 41,
   "metadata": {},
   "outputs": [
    {
     "name": "stdout",
     "output_type": "stream",
     "text": [
      "+--------+--------------------+\n",
      "|movie_id|              genres|\n",
      "+--------+--------------------+\n",
      "|       3|Adventure|Sci-Fi|...|\n",
      "|      13|Comedy|Horror|Thr...|\n",
      "|       5|Action|Adventure|...|\n",
      "|       1|Comedy|Drama|Horr...|\n",
      "|       1| Action|Drama|Horror|\n",
      "|       1|Action|Animation|...|\n",
      "|      26|Action|Adventure|...|\n",
      "|       1| Adventure|Animation|\n",
      "|      13|    Adventure|Sci-Fi|\n",
      "|       1|Adventure|Childre...|\n",
      "|       1|  Documentary|Sci-Fi|\n",
      "|       2|Documentary|Music...|\n",
      "|       2|Animation|Childre...|\n",
      "|       1|Action|Adventure|...|\n",
      "|       1|Crime|Drama|Fanta...|\n",
      "|       2|Adventure|Childre...|\n",
      "|       1| Musical|Romance|War|\n",
      "|       3|Comedy|Mystery|Th...|\n",
      "|      12|   Adventure|Fantasy|\n",
      "|       1|Action|Animation|...|\n",
      "+--------+--------------------+\n",
      "only showing top 20 rows\n",
      "\n"
     ]
    }
   ],
   "source": [
    "count_movies=spark.sql(\"select count(distinct(movieId)) as movie_id,genres from movies group by genres\")\n",
    "count_movies.show()"
   ]
  },
  {
   "cell_type": "markdown",
   "metadata": {},
   "source": [
    "# method2 Data preprocessing(RDD,DataFrame)\n"
   ]
  },
  {
   "cell_type": "markdown",
   "metadata": {},
   "source": [
    "## load rating data"
   ]
  },
  {
   "cell_type": "code",
   "execution_count": 105,
   "metadata": {
    "collapsed": true
   },
   "outputs": [],
   "source": [
    "import pyspark\n",
    "sc = SparkContext.getOrCreate()"
   ]
  },
  {
   "cell_type": "code",
   "execution_count": 127,
   "metadata": {
    "collapsed": true
   },
   "outputs": [],
   "source": [
    "ratings = sc.textFile(\"file:///Users/qiankunhuang/Downloads/ml-latest-small/rating.csv\")\n",
    "rating=ratings.map(lambda line:line.split(\",\"))\n",
    "movies= sc.textFile(\"file:///Users/qiankunhuang/Downloads/ml-latest-small/movies.csv\")\n",
    "movies= movies.map(lambda line:line.split(\",\"))\n"
   ]
  },
  {
   "cell_type": "code",
   "execution_count": 129,
   "metadata": {
    "collapsed": true
   },
   "outputs": [],
   "source": [
    "head1= rating.first()\n",
    "rating = rating.filter(lambda x : x!= head1)\n",
    "head2= movies.first()\n",
    "movies2= movies.filter(lambda x : x!= head2)\n",
    "\n"
   ]
  },
  {
   "cell_type": "markdown",
   "metadata": {},
   "source": [
    "## calculate the number of user"
   ]
  },
  {
   "cell_type": "code",
   "execution_count": 121,
   "metadata": {},
   "outputs": [
    {
     "data": {
      "text/plain": [
       "671"
      ]
     },
     "execution_count": 121,
     "metadata": {},
     "output_type": "execute_result"
    }
   ],
   "source": [
    "users = rating.map(lambda x:(x[0],1)).reduceByKey(lambda a,b:a).count()\n",
    "users\n"
   ]
  },
  {
   "cell_type": "markdown",
   "metadata": {},
   "source": [
    "## calculate the number of movies"
   ]
  },
  {
   "cell_type": "code",
   "execution_count": 131,
   "metadata": {},
   "outputs": [
    {
     "data": {
      "text/plain": [
       "9125"
      ]
     },
     "execution_count": 131,
     "metadata": {},
     "output_type": "execute_result"
    }
   ],
   "source": [
    "movies3 = movies2.map(lambda x:(x[0],1)).reduceByKey(lambda a,b:a).count()\n",
    "movies3\n",
    "\n"
   ]
  }
 ],
 "metadata": {
  "kernelspec": {
   "display_name": "Python 2",
   "language": "python",
   "name": "python2"
  },
  "language_info": {
   "codemirror_mode": {
    "name": "ipython",
    "version": 2
   },
   "file_extension": ".py",
   "mimetype": "text/x-python",
   "name": "python",
   "nbconvert_exporter": "python",
   "pygments_lexer": "ipython2",
   "version": "2.7.13"
  }
 },
 "nbformat": 4,
 "nbformat_minor": 2
}
