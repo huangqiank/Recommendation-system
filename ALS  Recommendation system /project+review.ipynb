{
 "cells": [
  {
   "cell_type": "markdown",
   "metadata": {},
   "source": [
    "# Project Report\n",
    " "
   ]
  },
  {
   "cell_type": "markdown",
   "metadata": {},
   "source": [
    "### Recommendation system\n",
    "\n",
    "#### item-based,user based\n",
    "This Recommendation system uses item-base , user-base ,and KNN method to recommend items to customers. \n",
    "<br>In user-base, the similarity between different users is defined by \n",
    "<br>$ a_{uv} = \\frac{|N(u) \\bigcap N(v)|}{ \\sqrt{N(u)*N(v)}} $\n",
    "<br>Then according to knn method, choose k neighbors and predict the pretend customer's  interest in the product. \n",
    "<br>$p(u,x) = \\sum(a_{uv}*r_{vx})$\n",
    "Almost the same in the user-based method\n",
    "<br>$b_{ij}=\\frac{|M(i)\\bigcap M(j)|}{\\sqrt{M(i)*M(j)}}$\n",
    "<br>$p(u,x) = \\sum(b_{xi}*r_{ui})$\n",
    "\n",
    "<br>Actually, the rating matrix is always sparse. we try to use ALS algorithm to solve the problem.\n",
    "\n",
    "##### Matrix factorization\n",
    "<br>1,Each user can be described as k features,hidden topics\n",
    "<br>2,Each item can be described by k features\n",
    "<br>3,If we multiply each feature of the user by the corrsponding feature of movies and add <br>them together,this will be a good approximation for the model.\n",
    "\n",
    "$r_{ui}=x_{u}^T*y_{i} = \\sum(x_{uk}*y_{ki})$\n",
    "##### ALS\n",
    "r_ui is the true rating, y,x is assumed to be colum(row) vector.The k attribite are called the latend vectors.We have to choose the best k to minimize the square of the difference between all ratings in dataset and our predictions.\n",
    "<br>Alternating least square assumed one variable is computed and use the computed value for other value\n",
    "$L= \\sum(r_{ui}-x_{u}^T*y_{i})^2 + \\lambda_{x}*\\sum{||x_{u}||^2}+\\lambda_{y}*\\sum{||y_{u}||^2}$\n",
    "After calculation : \n",
    "<br>$x_{u}^T*(Y^T*Y +\\lambda_{x}*I) =r_u*Y$\n",
    "<br>$x_{u}^T = r_{u}*Y*(Y^T*Y+\\lambda_{x}*I)^{-1}$\n",
    "<br>$y_{i}^T*(x^T*x +\\lambda_{y}*I) =r_i*x$\n",
    "<br>$y_{i}^T = r_{i}*x*(x^T*x+\\lambda_{y}*I)^{-1}$\n",
    "\n",
    "##### project review\n",
    "In this project , I try my ALS in python, the in class ALS and  the spark ALS Method.\n",
    "They all work well and convergent in the end. The parameter $\\lambda$, the number of iterrations and the number of features will all affect the results. \n",
    "<br>According to this data, more iterations will decrease the MSE and smaller lambda will decrease the MSE according to this data.¶\n",
    "\n"
   ]
  }
 ],
 "metadata": {
  "kernelspec": {
   "display_name": "Python 2",
   "language": "python",
   "name": "python2"
  },
  "language_info": {
   "codemirror_mode": {
    "name": "ipython",
    "version": 2
   },
   "file_extension": ".py",
   "mimetype": "text/x-python",
   "name": "python",
   "nbconvert_exporter": "python",
   "pygments_lexer": "ipython2",
   "version": "2.7.13"
  }
 },
 "nbformat": 4,
 "nbformat_minor": 2
}
