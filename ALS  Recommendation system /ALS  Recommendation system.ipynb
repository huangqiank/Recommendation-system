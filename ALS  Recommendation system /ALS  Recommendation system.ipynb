{
 "cells": [
  {
   "cell_type": "markdown",
   "metadata": {},
   "source": [
    "#  ALS Recommendation System"
   ]
  },
  {
   "cell_type": "code",
   "execution_count": 174,
   "metadata": {
    "collapsed": true
   },
   "outputs": [],
   "source": [
    "import numpy as np\n",
    "import pandas as pd\n",
    "import matplotlib.pyplot as plt\n",
    "import seaborn as sns\n",
    "from sklearn.linear_model import LinearRegression\n",
    "from numpy.linalg import solve\n",
    "%matplotlib inline\n"
   ]
  },
  {
   "cell_type": "code",
   "execution_count": 175,
   "metadata": {},
   "outputs": [
    {
     "data": {
      "text/html": [
       "<div>\n",
       "<style>\n",
       "    .dataframe thead tr:only-child th {\n",
       "        text-align: right;\n",
       "    }\n",
       "\n",
       "    .dataframe thead th {\n",
       "        text-align: left;\n",
       "    }\n",
       "\n",
       "    .dataframe tbody tr th {\n",
       "        vertical-align: top;\n",
       "    }\n",
       "</style>\n",
       "<table border=\"1\" class=\"dataframe\">\n",
       "  <thead>\n",
       "    <tr style=\"text-align: right;\">\n",
       "      <th></th>\n",
       "      <th>userId</th>\n",
       "      <th>movieId</th>\n",
       "      <th>rating</th>\n",
       "      <th>timestamp</th>\n",
       "    </tr>\n",
       "  </thead>\n",
       "  <tbody>\n",
       "    <tr>\n",
       "      <th>0</th>\n",
       "      <td>1</td>\n",
       "      <td>31</td>\n",
       "      <td>2.5</td>\n",
       "      <td>1260759144</td>\n",
       "    </tr>\n",
       "    <tr>\n",
       "      <th>1</th>\n",
       "      <td>1</td>\n",
       "      <td>1029</td>\n",
       "      <td>3.0</td>\n",
       "      <td>1260759179</td>\n",
       "    </tr>\n",
       "    <tr>\n",
       "      <th>2</th>\n",
       "      <td>1</td>\n",
       "      <td>1061</td>\n",
       "      <td>3.0</td>\n",
       "      <td>1260759182</td>\n",
       "    </tr>\n",
       "    <tr>\n",
       "      <th>3</th>\n",
       "      <td>1</td>\n",
       "      <td>1129</td>\n",
       "      <td>2.0</td>\n",
       "      <td>1260759185</td>\n",
       "    </tr>\n",
       "    <tr>\n",
       "      <th>4</th>\n",
       "      <td>1</td>\n",
       "      <td>1172</td>\n",
       "      <td>4.0</td>\n",
       "      <td>1260759205</td>\n",
       "    </tr>\n",
       "  </tbody>\n",
       "</table>\n",
       "</div>"
      ],
      "text/plain": [
       "   userId  movieId  rating   timestamp\n",
       "0       1       31     2.5  1260759144\n",
       "1       1     1029     3.0  1260759179\n",
       "2       1     1061     3.0  1260759182\n",
       "3       1     1129     2.0  1260759185\n",
       "4       1     1172     4.0  1260759205"
      ]
     },
     "execution_count": 175,
     "metadata": {},
     "output_type": "execute_result"
    }
   ],
   "source": [
    "rating  = pd.read_csv(\"file:///Users/qiankunhuang/Downloads/ml-latest-small/ratings.csv\")\n",
    "rating.head()\n"
   ]
  },
  {
   "cell_type": "code",
   "execution_count": null,
   "metadata": {
    "collapsed": true
   },
   "outputs": [],
   "source": [
    "# Create ratings matrix\n",
    "table = pd.pivot_table(rating,index = \"userId\" ,columns=\"movieId\",values = \"rating\")\n",
    "ratings = table.fillna(value=0).as_matrix()\n",
    "ratings.shape"
   ]
  },
  {
   "cell_type": "markdown",
   "metadata": {},
   "source": [
    "# MY ALS"
   ]
  },
  {
   "cell_type": "code",
   "execution_count": 219,
   "metadata": {
    "collapsed": true
   },
   "outputs": [],
   "source": [
    "def get_mse(q,X,Y):\n",
    "        return np.square(q-np.dot(X,Y)).mean()\n",
    "def myals(lambda_,n_factors,ratings,n_iterations):\n",
    "    m,n=ratings.shape\n",
    "    X= 10*np.random.rand(m,n_factors)\n",
    "    Y= 10*np.random.rand(n_factors,n)\n",
    "    l=[]\n",
    "    for i in xrange(n_iterations):\n",
    "        YYT = np.dot(Y,Y.T)\n",
    "        YRT=  np.dot(Y,ratings.T)\n",
    "        X= np.linalg.solve(YYT + lambda_* np.eye(n_factors),\n",
    "                      YRT).T\n",
    "        XTX = np.dot(X.T,X)\n",
    "        XTR = np.dot(X.T,ratings)\n",
    "        Y= np.linalg.solve(XTX+lambda_* np.eye(n_factors),\n",
    "                      XTR)\n",
    "        if i % 3 == 0:\n",
    "            mse = get_mse(ratings,X,Y)\n",
    "            l.append(mse)\n",
    "            print(\"iteration\" + format(i))\n",
    "            print (\"Train mse\" + str(mse))\n",
    "    plt.plot(l)\n",
    "        \n",
    "    "
   ]
  },
  {
   "cell_type": "code",
   "execution_count": 220,
   "metadata": {},
   "outputs": [
    {
     "name": "stdout",
     "output_type": "stream",
     "text": [
      "iteration0\n",
      "Train mse0.212827914514\n",
      "iteration3\n",
      "Train mse0.117317858021\n",
      "iteration6\n",
      "Train mse0.116092263364\n",
      "iteration9\n",
      "Train mse0.115756978153\n",
      "iteration12\n",
      "Train mse0.11559387238\n",
      "iteration15\n",
      "Train mse0.115508308747\n",
      "iteration18\n",
      "Train mse0.115463657903\n"
     ]
    },
    {
     "data": {
      "image/png": "[encoded data removed]",
      "text/plain": [
       "<matplotlib.figure.Figure at 0x1191fc050>"
      ]
     },
     "metadata": {},
     "output_type": "display_data"
    }
   ],
   "source": [
    "lambda_ = 0.1\n",
    "n_factors=30\n",
    "n_iteration=21\n",
    "myals(lambda_,n_factors,ratings,n_iteration)"
   ]
  },
  {
   "cell_type": "markdown",
   "metadata": {},
   "source": [
    "#### conclusion : This code works well ,after 10 iterarions it becomes convergent."
   ]
  },
  {
   "cell_type": "markdown",
   "metadata": {},
   "source": [
    "# Class ALS"
   ]
  },
  {
   "cell_type": "code",
   "execution_count": 98,
   "metadata": {
    "collapsed": true
   },
   "outputs": [],
   "source": [
    "from sklearn.metrics import mean_squared_error\n",
    "\n",
    "def get_mse(pred, actual):\n",
    "    # Ignore nonzero terms.\n",
    "    pred = pred[actual.nonzero()].flatten()\n",
    "    actual = actual[actual.nonzero()].flatten()\n",
    "    return mean_squared_error(pred, actual)"
   ]
  },
  {
   "cell_type": "code",
   "execution_count": 210,
   "metadata": {
    "collapsed": true
   },
   "outputs": [],
   "source": [
    "from numpy.linalg import solve\n",
    "\n",
    "class ExplicitMF():\n",
    "    def __init__(self, \n",
    "                 ratings, \n",
    "                 n_factors=40, \n",
    "                 item_reg=0.0, \n",
    "                 user_reg=0.0,\n",
    "                 verbose=False):\n",
    " \n",
    "        self.ratings = ratings\n",
    "        self.n_users, self.n_items = ratings.shape\n",
    "        self.n_factors = n_factors\n",
    "        self.item_reg = item_reg\n",
    "        self.user_reg = user_reg\n",
    "        self._v = verbose\n",
    "\n",
    "    def als_step(self,\n",
    "                 latent_vectors,\n",
    "                 fixed_vecs,\n",
    "                 ratings,\n",
    "                 _lambda,\n",
    "                 type='user'):\n",
    "        if type == 'user':\n",
    "            YTY = fixed_vecs.T.dot(fixed_vecs)\n",
    "            lambdaI = np.eye(YTY.shape[0]) * _lambda\n",
    "\n",
    "            for u in xrange(latent_vectors.shape[0]):\n",
    "                latent_vectors[u, :] = solve((YTY + lambdaI), \n",
    "                                     ratings[u, :].dot(fixed_vecs))\n",
    "        elif type == 'item':\n",
    "            XTX = fixed_vecs.T.dot(fixed_vecs)\n",
    "            lambdaI = np.eye(XTX.shape[0]) * _lambda\n",
    "            for i in xrange(latent_vectors.shape[0]):\n",
    "                latent_vectors[i, :] = solve((XTX + lambdaI), \n",
    "                                             ratings[:, i].T.dot(fixed_vecs))\n",
    "        return latent_vectors\n",
    "\n",
    "    def train(self, n_iter=10):\n",
    "\n",
    "        self.user_vecs = np.random.random((self.n_users, self.n_factors))\n",
    "        self.item_vecs = np.random.random((self.n_items, self.n_factors))\n",
    "        \n",
    "        self.partial_train(n_iter)\n",
    "    \n",
    "    def partial_train(self, n_iter):\n",
    "        ctr=1\n",
    "        while ctr <= n_iter:\n",
    "            if ctr % 10 == 0 and self._v:\n",
    "                print '\\tcurrent iteration: {}'.format(ctr)\n",
    "            self.user_vecs = self.als_step(self.user_vecs, \n",
    "                                           self.item_vecs, \n",
    "                                           self.ratings, \n",
    "                                           self.user_reg, \n",
    "                                           type='user')\n",
    "            self.item_vecs = self.als_step(self.item_vecs, \n",
    "                                           self.user_vecs, \n",
    "                                           self.ratings, \n",
    "                                           self.item_reg, \n",
    "                                           type='item')\n",
    "            ctr += 1\n",
    "    \n",
    "    def predict_all(self):\n",
    "        predictions = np.zeros((self.user_vecs.shape[0], \n",
    "                                self.item_vecs.shape[0]))\n",
    "        for u in xrange(self.user_vecs.shape[0]):\n",
    "            for i in xrange(self.item_vecs.shape[0]):\n",
    "                predictions[u, i] = self.predict(u, i)\n",
    "                \n",
    "        return predictions\n",
    "    def predict(self, u, i):\n",
    "        return self.user_vecs[u, :].dot(self.item_vecs[i, :].T)\n",
    "    def get_mse(self,pred,y):\n",
    "        return np.square(pred-y).mean()\n",
    "    def calculate_learning_curve(self, iter_array):\n",
    "        iter_array.sort()\n",
    "        self.train_mse =[]\n",
    "        iter_diff = 0\n",
    "        for (i, n_iter) in enumerate(iter_array):\n",
    "            if self._v:\n",
    "                print 'Iteration: {}'.format(n_iter)\n",
    "            if i == 0:\n",
    "                self.train(n_iter - iter_diff)\n",
    "            else:\n",
    "                self.partial_train(n_iter - iter_diff)\n",
    "\n",
    "            predictions = self.predict_all()\n",
    "\n",
    "            self.train_mse += [self.get_mse(predictions, self.ratings)]\n",
    "            #self.test_mse += [self.get_mse(predictions, test)]\n",
    "            if self._v:\n",
    "                print 'Train mse: ' + str(self.train_mse[-1])\n",
    "                #print 'Test mse: ' + str(self.test_mse[-1])\n",
    "            iter_diff = n_iter\n",
    "        plt.plot(self.train_mse)\n",
    "                "
   ]
  },
  {
   "cell_type": "code",
   "execution_count": 227,
   "metadata": {},
   "outputs": [
    {
     "name": "stdout",
     "output_type": "stream",
     "text": [
      "Iteration: 1\n",
      "Train mse: 0.154182280971\n",
      "Iteration: 4\n",
      "Train mse: 0.117524474032\n",
      "Iteration: 7\n",
      "Train mse: 0.116100241219\n",
      "Iteration: 10\n",
      "Train mse: 0.115737892339\n",
      "Iteration: 13\n",
      "Train mse: 0.11559062389\n",
      "Iteration: 16\n",
      "Train mse: 0.115519332251\n",
      "Iteration: 19\n",
      "Train mse: 0.115481796606\n"
     ]
    },
    {
     "data": {
      "image/png": "[encoded data removed]",
      "text/plain": [
       "<matplotlib.figure.Figure at 0x119668e10>"
      ]
     },
     "metadata": {},
     "output_type": "display_data"
    }
   ],
   "source": [
    "MF_ALS = ExplicitMF(ratings, n_factors=30,\\\n",
    "                    user_reg=0.1, item_reg=0.1,verbose=True)\n",
    "\n",
    "MF_ALS.calculate_learning_curve(np.arange(1,21,3))"
   ]
  },
  {
   "cell_type": "markdown",
   "metadata": {},
   "source": [
    "#### conclusion : This result is almost the same as the previous one, after 10 iterarions it becomes convergent."
   ]
  },
  {
   "cell_type": "markdown",
   "metadata": {},
   "source": [
    "# spark"
   ]
  },
  {
   "cell_type": "code",
   "execution_count": 234,
   "metadata": {
    "collapsed": true
   },
   "outputs": [],
   "source": [
    "from pyspark.mllib.recommendation import ALS,MatrixFactorizationModel,Rating\n",
    "import time\n",
    "data = sc.textFile(\"file:///Users/qiankunhuang/Downloads/ml-latest-small/ratings.csv\")\n",
    "ratings = data.map(lambda i : i.split(\",\"))\n",
    "head = ratings.first()\n",
    "ratings=ratings.filter(lambda x: x != head)\n",
    "ratings = ratings.map(lambda I: Rating(int(I[0]),int(I[1]),float(I[2])))\n",
    "train,validation = ratings.randomSplit([8,2])\n",
    "traindatat =train.map(lambda p:(p[0],p[1]))\n",
    "validata = validation.map(lambda p:(p[0],p[1]))"
   ]
  },
  {
   "cell_type": "code",
   "execution_count": 236,
   "metadata": {},
   "outputs": [
    {
     "name": "stdout",
     "output_type": "stream",
     "text": [
      "5 0.1\n",
      "mean squared error=0.450281265359\n",
      "time =0.174567\n",
      "5 0.2\n",
      "mean squared error=0.566412004269\n",
      "time =0.093537\n",
      "5 0.3\n",
      "mean squared error=0.699421442338\n",
      "time =0.067268\n",
      "10 0.1\n",
      "mean squared error=0.356205032962\n",
      "time =0.0701300000001\n",
      "10 0.2\n",
      "mean squared error=0.543476763444\n",
      "time =0.063388\n",
      "10 0.3\n",
      "mean squared error=0.699246774854\n",
      "time =0.0617829999999\n",
      "15 0.1\n",
      "mean squared error=0.314182898796\n",
      "time =0.066818\n",
      "15 0.2\n",
      "mean squared error=0.536795853308\n",
      "time =0.0695409999998\n",
      "15 0.3\n",
      "mean squared error=0.698847784592\n",
      "time =0.0639620000002\n",
      "20 0.1\n",
      "mean squared error=0.287816348323\n",
      "time =0.0659800000001\n",
      "20 0.2\n",
      "mean squared error=0.534310942384\n",
      "time =0.0635560000001\n",
      "20 0.3\n",
      "mean squared error=0.698842153296\n",
      "time =0.0669929999999\n"
     ]
    }
   ],
   "source": [
    "ranks = [5,10,15,20]\n",
    "iterations = 20\n",
    "reg= [0.1,0.2,0.3]\n",
    "for i in ranks:\n",
    "    for j in reg:\n",
    "        tic = time.clock()\n",
    "        model = ALS.train(ratings,i,20,j)\n",
    "        prediction = model.predictAll(validata).map(lambda r:((r[0],r[1]),r[2]))\n",
    "        rateAndPreds = validation.map(lambda r:((r[0],r[1]),r[2])).join(prediction)\n",
    "        MSE = rateAndPreds.map(lambda r:(r[1][0]-r[1][1])**2).mean()\n",
    "        toc = time.clock()\n",
    "        print i,j\n",
    "        print (\"mean squared error=\" + str(MSE))\n",
    "        print (\"time =\" + format(toc-tic))\n"
   ]
  },
  {
   "cell_type": "markdown",
   "metadata": {},
   "source": [
    "#### Conclusion： More iterations will decrease the MSE and  smaller lambda will decrease the MSE according to this data."
   ]
  }
 ],
 "metadata": {
  "celltoolbar": "Raw Cell Format",
  "kernelspec": {
   "display_name": "Python 2",
   "language": "python",
   "name": "python2"
  },
  "language_info": {
   "codemirror_mode": {
    "name": "ipython",
    "version": 2
   },
   "file_extension": ".py",
   "mimetype": "text/x-python",
   "name": "python",
   "nbconvert_exporter": "python",
   "pygments_lexer": "ipython2",
   "version": "2.7.13"
  }
 },
 "nbformat": 4,
 "nbformat_minor": 2
}
